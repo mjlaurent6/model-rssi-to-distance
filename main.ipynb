{
 "cells": [
  {
   "cell_type": "code",
   "execution_count": 159,
   "metadata": {},
   "outputs": [],
   "source": [
    "import matplotlib.pyplot as plt\n",
    "import numpy as np\n",
    "import pandas as pd\n",
    "import seaborn as sns\n",
    "from sklearn.linear_model import LinearRegression\n",
    "from datetime import datetime\n",
    "import tensorflow_addons as tfa\n",
    "# Make NumPy printouts easier to read.\n",
    "np.set_printoptions(precision=3, suppress=True)"
   ]
  },
  {
   "cell_type": "code",
   "execution_count": 160,
   "metadata": {},
   "outputs": [],
   "source": [
    "import tensorflow as tf\n",
    "\n",
    "from tensorflow import keras\n",
    "from tensorflow.keras import layers"
   ]
  },
  {
   "cell_type": "code",
   "execution_count": 161,
   "metadata": {},
   "outputs": [],
   "source": [
    "# Output to csv file\n",
    "import csv\n",
    "path_csv = './'\n",
    "file_names = ['/t20_tx10.csv', '/t8_tx10.csv', '/t8_tx15.csv']\n",
    "\n",
    "# Read csv\n",
    "rssi_data = []\n",
    "snr_data = []\n",
    "for name in file_names:\n",
    "  with open(path_csv + name, 'r') as f:\n",
    "    reader = csv.DictReader(f, delimiter=',')\n",
    "    current_file_rssi = []\n",
    "    current_file_snr = []\n",
    "    for row in reader:\n",
    "      current_file_rssi.append(float(row['rssi']))\n",
    "      current_file_snr.append(float(row['snr']))\n",
    "    rssi_data.append(current_file_rssi)\n",
    "    snr_data.append(current_file_snr)\n",
    "\n",
    "distance = np.arange(0, len(rssi_data[0])*3, 3)\n"
   ]
  },
  {
   "cell_type": "code",
   "execution_count": 162,
   "metadata": {},
   "outputs": [
    {
     "data": {
      "text/plain": [
       "array([  0,   3,   6,   9,  12,  15,  18,  21,  24,  27,  30,  33,  36,\n",
       "        39,  42,  45,  48,  51,  54,  57,  60,  63,  66,  69,  72,  75,\n",
       "        78,  81,  84,  87,  90,  93,  96,  99, 102, 105, 108, 111, 114,\n",
       "       117, 120, 123, 126, 129, 132, 135, 138, 141, 144, 147, 150, 153,\n",
       "       156, 159, 162, 165, 168, 171, 174, 177, 180, 183, 186, 189, 192,\n",
       "       195, 198, 201])"
      ]
     },
     "execution_count": 162,
     "metadata": {},
     "output_type": "execute_result"
    }
   ],
   "source": [
    "distance"
   ]
  },
  {
   "cell_type": "code",
   "execution_count": 163,
   "metadata": {},
   "outputs": [],
   "source": [
    "tx15 =  [15 for i in range(len(rssi_data[0]))]\n",
    "tx10 =  [10 for i in range(len(rssi_data[0]))]"
   ]
  },
  {
   "cell_type": "code",
   "execution_count": 164,
   "metadata": {},
   "outputs": [
    {
     "data": {
      "text/html": [
       "<div>\n",
       "<style scoped>\n",
       "    .dataframe tbody tr th:only-of-type {\n",
       "        vertical-align: middle;\n",
       "    }\n",
       "\n",
       "    .dataframe tbody tr th {\n",
       "        vertical-align: top;\n",
       "    }\n",
       "\n",
       "    .dataframe thead th {\n",
       "        text-align: right;\n",
       "    }\n",
       "</style>\n",
       "<table border=\"1\" class=\"dataframe\">\n",
       "  <thead>\n",
       "    <tr style=\"text-align: right;\">\n",
       "      <th></th>\n",
       "      <th>rssi</th>\n",
       "      <th>snr</th>\n",
       "      <th>tx_power</th>\n",
       "      <th>distance</th>\n",
       "    </tr>\n",
       "  </thead>\n",
       "  <tbody>\n",
       "    <tr>\n",
       "      <th>0</th>\n",
       "      <td>-34.666667</td>\n",
       "      <td>13.400000</td>\n",
       "      <td>15</td>\n",
       "      <td>0</td>\n",
       "    </tr>\n",
       "    <tr>\n",
       "      <th>1</th>\n",
       "      <td>-28.000000</td>\n",
       "      <td>12.066667</td>\n",
       "      <td>15</td>\n",
       "      <td>3</td>\n",
       "    </tr>\n",
       "    <tr>\n",
       "      <th>2</th>\n",
       "      <td>-54.333333</td>\n",
       "      <td>11.166667</td>\n",
       "      <td>15</td>\n",
       "      <td>6</td>\n",
       "    </tr>\n",
       "    <tr>\n",
       "      <th>3</th>\n",
       "      <td>-58.333333</td>\n",
       "      <td>12.166667</td>\n",
       "      <td>15</td>\n",
       "      <td>9</td>\n",
       "    </tr>\n",
       "    <tr>\n",
       "      <th>4</th>\n",
       "      <td>-67.333333</td>\n",
       "      <td>12.600000</td>\n",
       "      <td>15</td>\n",
       "      <td>12</td>\n",
       "    </tr>\n",
       "    <tr>\n",
       "      <th>...</th>\n",
       "      <td>...</td>\n",
       "      <td>...</td>\n",
       "      <td>...</td>\n",
       "      <td>...</td>\n",
       "    </tr>\n",
       "    <tr>\n",
       "      <th>191</th>\n",
       "      <td>-95.333333</td>\n",
       "      <td>6.466667</td>\n",
       "      <td>10</td>\n",
       "      <td>189</td>\n",
       "    </tr>\n",
       "    <tr>\n",
       "      <th>192</th>\n",
       "      <td>-106.333333</td>\n",
       "      <td>-7.533333</td>\n",
       "      <td>10</td>\n",
       "      <td>192</td>\n",
       "    </tr>\n",
       "    <tr>\n",
       "      <th>193</th>\n",
       "      <td>-104.333333</td>\n",
       "      <td>-8.200000</td>\n",
       "      <td>10</td>\n",
       "      <td>195</td>\n",
       "    </tr>\n",
       "    <tr>\n",
       "      <th>194</th>\n",
       "      <td>-102.666667</td>\n",
       "      <td>-4.866667</td>\n",
       "      <td>10</td>\n",
       "      <td>198</td>\n",
       "    </tr>\n",
       "    <tr>\n",
       "      <th>195</th>\n",
       "      <td>-102.000000</td>\n",
       "      <td>-3.266667</td>\n",
       "      <td>10</td>\n",
       "      <td>201</td>\n",
       "    </tr>\n",
       "  </tbody>\n",
       "</table>\n",
       "<p>196 rows × 4 columns</p>\n",
       "</div>"
      ],
      "text/plain": [
       "           rssi        snr  tx_power  distance\n",
       "0    -34.666667  13.400000        15         0\n",
       "1    -28.000000  12.066667        15         3\n",
       "2    -54.333333  11.166667        15         6\n",
       "3    -58.333333  12.166667        15         9\n",
       "4    -67.333333  12.600000        15        12\n",
       "..          ...        ...       ...       ...\n",
       "191  -95.333333   6.466667        10       189\n",
       "192 -106.333333  -7.533333        10       192\n",
       "193 -104.333333  -8.200000        10       195\n",
       "194 -102.666667  -4.866667        10       198\n",
       "195 -102.000000  -3.266667        10       201\n",
       "\n",
       "[196 rows x 4 columns]"
      ]
     },
     "execution_count": 164,
     "metadata": {},
     "output_type": "execute_result"
    }
   ],
   "source": [
    "tx_15_8 = pd.DataFrame(list(zip(rssi_data[2], snr_data[2], tx15, distance)), columns=['rssi', 'snr', 'tx_power','distance'])\n",
    "tx_10_8 = pd.DataFrame(list(zip(rssi_data[1], snr_data[1],  tx10, distance)), columns=['rssi', 'snr', 'tx_power','distance'])\n",
    "tx_10 = pd.DataFrame(list(zip(rssi_data[0], snr_data[0],  tx10, distance)), columns=['rssi', 'snr', 'tx_power','distance'])\n",
    "frames = [tx_15_8, tx_10_8, tx_10]\n",
    "df = pd.concat(frames, ignore_index=True)\n",
    "df"
   ]
  },
  {
   "cell_type": "code",
   "execution_count": 165,
   "metadata": {},
   "outputs": [],
   "source": [
    "X = df.iloc[:,:3]\n",
    "y = df.iloc[:,3:] "
   ]
  },
  {
   "cell_type": "code",
   "execution_count": 166,
   "metadata": {},
   "outputs": [],
   "source": [
    "reg = LinearRegression().fit(X, y)"
   ]
  },
  {
   "cell_type": "code",
   "execution_count": 167,
   "metadata": {},
   "outputs": [
    {
     "data": {
      "text/plain": [
       "0.520085161387698"
      ]
     },
     "execution_count": 167,
     "metadata": {},
     "output_type": "execute_result"
    }
   ],
   "source": [
    "reg.score(X, y)"
   ]
  },
  {
   "cell_type": "code",
   "execution_count": 168,
   "metadata": {},
   "outputs": [],
   "source": [
    "train_dataset = df.sample(frac=0.8, random_state=91720)\n",
    "test_dataset = df.drop(train_dataset.index)"
   ]
  },
  {
   "cell_type": "code",
   "execution_count": 169,
   "metadata": {},
   "outputs": [
    {
     "data": {
      "text/plain": [
       "<seaborn.axisgrid.PairGrid at 0x7f97d031fb20>"
      ]
     },
     "execution_count": 169,
     "metadata": {},
     "output_type": "execute_result"
    },
    {
     "data": {
      "image/png": "[encoded data removed]",
      "text/plain": [
       "<Figure size 720x720 with 20 Axes>"
      ]
     },
     "metadata": {},
     "output_type": "display_data"
    }
   ],
   "source": [
    "sns.pairplot(train_dataset[['rssi', 'snr', 'tx_power','distance']], diag_kind='kde')"
   ]
  },
  {
   "cell_type": "code",
   "execution_count": 170,
   "metadata": {},
   "outputs": [
    {
     "data": {
      "text/plain": [
       "<AxesSubplot:>"
      ]
     },
     "execution_count": 170,
     "metadata": {},
     "output_type": "execute_result"
    },
    {
     "data": {
      "image/png": "[encoded data removed]",
      "text/plain": [
       "<Figure size 792x648 with 2 Axes>"
      ]
     },
     "metadata": {},
     "output_type": "display_data"
    }
   ],
   "source": [
    "sns.set_theme(style=\"white\")\n",
    "\n",
    "# Compute the correlation matrix\n",
    "corr = df.corr()\n",
    "\n",
    "# Generate a mask for the upper triangle\n",
    "mask = np.triu(np.ones_like(corr, dtype=bool))\n",
    "\n",
    "# Set up the matplotlib figure\n",
    "f, ax = plt.subplots(figsize=(11, 9))\n",
    "\n",
    "# Generate a custom diverging colormap\n",
    "cmap = sns.diverging_palette(230, 20, as_cmap=True)\n",
    "\n",
    "# Draw the heatmap with the mask and correct aspect ratio\n",
    "sns.heatmap(corr, mask=mask, cmap=cmap, vmax=.3, center=0,\n",
    "            square=True, linewidths=.5, cbar_kws={\"shrink\": .5}, annot=True)"
   ]
  },
  {
   "cell_type": "code",
   "execution_count": 171,
   "metadata": {},
   "outputs": [
    {
     "data": {
      "text/html": [
       "<div>\n",
       "<style scoped>\n",
       "    .dataframe tbody tr th:only-of-type {\n",
       "        vertical-align: middle;\n",
       "    }\n",
       "\n",
       "    .dataframe tbody tr th {\n",
       "        vertical-align: top;\n",
       "    }\n",
       "\n",
       "    .dataframe thead th {\n",
       "        text-align: right;\n",
       "    }\n",
       "</style>\n",
       "<table border=\"1\" class=\"dataframe\">\n",
       "  <thead>\n",
       "    <tr style=\"text-align: right;\">\n",
       "      <th></th>\n",
       "      <th>count</th>\n",
       "      <th>mean</th>\n",
       "      <th>std</th>\n",
       "      <th>min</th>\n",
       "      <th>25%</th>\n",
       "      <th>50%</th>\n",
       "      <th>75%</th>\n",
       "      <th>max</th>\n",
       "    </tr>\n",
       "  </thead>\n",
       "  <tbody>\n",
       "    <tr>\n",
       "      <th>rssi</th>\n",
       "      <td>157.0</td>\n",
       "      <td>-89.821656</td>\n",
       "      <td>15.281757</td>\n",
       "      <td>-106.333333</td>\n",
       "      <td>-99.666667</td>\n",
       "      <td>-93.333333</td>\n",
       "      <td>-87.666667</td>\n",
       "      <td>-28.0</td>\n",
       "    </tr>\n",
       "    <tr>\n",
       "      <th>snr</th>\n",
       "      <td>157.0</td>\n",
       "      <td>5.026539</td>\n",
       "      <td>6.086328</td>\n",
       "      <td>-9.000000</td>\n",
       "      <td>0.066667</td>\n",
       "      <td>6.400000</td>\n",
       "      <td>9.733333</td>\n",
       "      <td>14.0</td>\n",
       "    </tr>\n",
       "    <tr>\n",
       "      <th>tx_power</th>\n",
       "      <td>157.0</td>\n",
       "      <td>11.528662</td>\n",
       "      <td>2.310956</td>\n",
       "      <td>10.000000</td>\n",
       "      <td>10.000000</td>\n",
       "      <td>10.000000</td>\n",
       "      <td>15.000000</td>\n",
       "      <td>15.0</td>\n",
       "    </tr>\n",
       "    <tr>\n",
       "      <th>distance</th>\n",
       "      <td>157.0</td>\n",
       "      <td>97.796178</td>\n",
       "      <td>56.889427</td>\n",
       "      <td>0.000000</td>\n",
       "      <td>51.000000</td>\n",
       "      <td>96.000000</td>\n",
       "      <td>144.000000</td>\n",
       "      <td>201.0</td>\n",
       "    </tr>\n",
       "  </tbody>\n",
       "</table>\n",
       "</div>"
      ],
      "text/plain": [
       "          count       mean        std         min        25%        50%  \\\n",
       "rssi      157.0 -89.821656  15.281757 -106.333333 -99.666667 -93.333333   \n",
       "snr       157.0   5.026539   6.086328   -9.000000   0.066667   6.400000   \n",
       "tx_power  157.0  11.528662   2.310956   10.000000  10.000000  10.000000   \n",
       "distance  157.0  97.796178  56.889427    0.000000  51.000000  96.000000   \n",
       "\n",
       "                 75%    max  \n",
       "rssi      -87.666667  -28.0  \n",
       "snr         9.733333   14.0  \n",
       "tx_power   15.000000   15.0  \n",
       "distance  144.000000  201.0  "
      ]
     },
     "execution_count": 171,
     "metadata": {},
     "output_type": "execute_result"
    }
   ],
   "source": [
    "train_dataset.describe().transpose()"
   ]
  },
  {
   "cell_type": "code",
   "execution_count": 172,
   "metadata": {},
   "outputs": [],
   "source": [
    "train_features = train_dataset.copy()\n",
    "test_features = test_dataset.copy()\n",
    "\n",
    "train_labels = train_features.pop('distance')\n",
    "test_labels = test_features.pop('distance')"
   ]
  },
  {
   "cell_type": "code",
   "execution_count": 173,
   "metadata": {},
   "outputs": [
    {
     "data": {
      "text/html": [
       "<div>\n",
       "<style scoped>\n",
       "    .dataframe tbody tr th:only-of-type {\n",
       "        vertical-align: middle;\n",
       "    }\n",
       "\n",
       "    .dataframe tbody tr th {\n",
       "        vertical-align: top;\n",
       "    }\n",
       "\n",
       "    .dataframe thead th {\n",
       "        text-align: right;\n",
       "    }\n",
       "</style>\n",
       "<table border=\"1\" class=\"dataframe\">\n",
       "  <thead>\n",
       "    <tr style=\"text-align: right;\">\n",
       "      <th></th>\n",
       "      <th>mean</th>\n",
       "      <th>std</th>\n",
       "    </tr>\n",
       "  </thead>\n",
       "  <tbody>\n",
       "    <tr>\n",
       "      <th>rssi</th>\n",
       "      <td>-89.821656</td>\n",
       "      <td>15.281757</td>\n",
       "    </tr>\n",
       "    <tr>\n",
       "      <th>snr</th>\n",
       "      <td>5.026539</td>\n",
       "      <td>6.086328</td>\n",
       "    </tr>\n",
       "    <tr>\n",
       "      <th>tx_power</th>\n",
       "      <td>11.528662</td>\n",
       "      <td>2.310956</td>\n",
       "    </tr>\n",
       "    <tr>\n",
       "      <th>distance</th>\n",
       "      <td>97.796178</td>\n",
       "      <td>56.889427</td>\n",
       "    </tr>\n",
       "  </tbody>\n",
       "</table>\n",
       "</div>"
      ],
      "text/plain": [
       "               mean        std\n",
       "rssi     -89.821656  15.281757\n",
       "snr        5.026539   6.086328\n",
       "tx_power  11.528662   2.310956\n",
       "distance  97.796178  56.889427"
      ]
     },
     "execution_count": 173,
     "metadata": {},
     "output_type": "execute_result"
    }
   ],
   "source": [
    "train_dataset.describe().transpose()[['mean', 'std']]"
   ]
  },
  {
   "cell_type": "code",
   "execution_count": 174,
   "metadata": {},
   "outputs": [
    {
     "name": "stdout",
     "output_type": "stream",
     "text": [
      "Requirement already satisfied: tensorboard_plugin_profile in /home/mjlaurent/anaconda3/lib/python3.9/site-packages (2.11.2)\n",
      "Requirement already satisfied: werkzeug>=0.11.15 in /home/mjlaurent/anaconda3/lib/python3.9/site-packages (from tensorboard_plugin_profile) (2.0.3)\n",
      "Requirement already satisfied: gviz-api>=1.9.0 in /home/mjlaurent/anaconda3/lib/python3.9/site-packages (from tensorboard_plugin_profile) (1.10.0)\n",
      "Requirement already satisfied: protobuf>=3.12.0 in /home/mjlaurent/anaconda3/lib/python3.9/site-packages (from tensorboard_plugin_profile) (4.22.3)\n",
      "Requirement already satisfied: six>=1.10.0 in /home/mjlaurent/anaconda3/lib/python3.9/site-packages (from tensorboard_plugin_profile) (1.16.0)\n",
      "Requirement already satisfied: setuptools>=41.0.0 in /home/mjlaurent/anaconda3/lib/python3.9/site-packages (from tensorboard_plugin_profile) (61.2.0)\n"
     ]
    }
   ],
   "source": [
    "!pip install -U tensorboard_plugin_profile"
   ]
  },
  {
   "cell_type": "code",
   "execution_count": 175,
   "metadata": {},
   "outputs": [
    {
     "name": "stderr",
     "output_type": "stream",
     "text": [
      "2023-04-17 14:20:45.897004: I tensorflow/tsl/profiler/lib/profiler_session.cc:104] Profiler session initializing.\n",
      "2023-04-17 14:20:45.897024: I tensorflow/tsl/profiler/lib/profiler_session.cc:119] Profiler session started.\n",
      "2023-04-17 14:20:45.897039: E tensorflow/compiler/xla/backends/profiler/gpu/cupti_error_manager.cc:135] cuptiGetTimestamp: ignored due to a previous error.\n",
      "2023-04-17 14:20:45.897043: E tensorflow/compiler/xla/backends/profiler/gpu/cupti_error_manager.cc:186] cuptiSubscribe: ignored due to a previous error.\n",
      "2023-04-17 14:20:45.897045: E tensorflow/compiler/xla/backends/profiler/gpu/cupti_error_manager.cc:459] cuptiGetResultString: ignored due to a previous error.\n",
      "2023-04-17 14:20:45.897048: E tensorflow/compiler/xla/backends/profiler/gpu/cupti_tracer.cc:1730] function cupti_interface_->Subscribe( &subscriber_, (CUpti_CallbackFunc)ApiCallback, this)failed with error \n",
      "2023-04-17 14:20:45.897109: I tensorflow/tsl/profiler/lib/profiler_session.cc:131] Profiler session tear down.\n",
      "2023-04-17 14:20:45.897122: E tensorflow/compiler/xla/backends/profiler/gpu/cupti_error_manager.cc:142] cuptiFinalize: ignored due to a previous error.\n",
      "2023-04-17 14:20:45.897124: E tensorflow/compiler/xla/backends/profiler/gpu/cupti_error_manager.cc:459] cuptiGetResultString: ignored due to a previous error.\n",
      "2023-04-17 14:20:45.897127: E tensorflow/compiler/xla/backends/profiler/gpu/cupti_tracer.cc:1822] function cupti_interface_->Finalize()failed with error \n",
      "2023-04-17 14:20:48.833794: I tensorflow/tsl/profiler/lib/profiler_session.cc:104] Profiler session initializing.\n",
      "2023-04-17 14:20:48.833823: I tensorflow/tsl/profiler/lib/profiler_session.cc:119] Profiler session started.\n",
      "2023-04-17 14:20:48.833840: E tensorflow/compiler/xla/backends/profiler/gpu/cupti_error_manager.cc:135] cuptiGetTimestamp: ignored due to a previous error.\n",
      "2023-04-17 14:20:48.833846: E tensorflow/compiler/xla/backends/profiler/gpu/cupti_error_manager.cc:186] cuptiSubscribe: ignored due to a previous error.\n",
      "2023-04-17 14:20:48.833849: E tensorflow/compiler/xla/backends/profiler/gpu/cupti_error_manager.cc:459] cuptiGetResultString: ignored due to a previous error.\n",
      "2023-04-17 14:20:48.833853: E tensorflow/compiler/xla/backends/profiler/gpu/cupti_tracer.cc:1730] function cupti_interface_->Subscribe( &subscriber_, (CUpti_CallbackFunc)ApiCallback, this)failed with error \n",
      "2023-04-17 14:20:48.955869: I tensorflow/tsl/profiler/lib/profiler_session.cc:70] Profiler session collecting data.\n",
      "2023-04-17 14:20:48.956321: E tensorflow/compiler/xla/backends/profiler/gpu/cupti_error_manager.cc:142] cuptiFinalize: ignored due to a previous error.\n",
      "2023-04-17 14:20:48.956332: E tensorflow/compiler/xla/backends/profiler/gpu/cupti_error_manager.cc:459] cuptiGetResultString: ignored due to a previous error.\n",
      "2023-04-17 14:20:48.956335: E tensorflow/compiler/xla/backends/profiler/gpu/cupti_tracer.cc:1822] function cupti_interface_->Finalize()failed with error \n",
      "2023-04-17 14:20:48.961640: E tensorflow/compiler/xla/backends/profiler/gpu/cupti_error_manager.cc:135] cuptiGetTimestamp: ignored due to a previous error.\n",
      "2023-04-17 14:20:48.961651: E tensorflow/compiler/xla/backends/profiler/gpu/cupti_error_manager.cc:135] cuptiGetTimestamp: ignored due to a previous error.\n",
      "2023-04-17 14:20:48.961656: I tensorflow/compiler/xla/backends/profiler/gpu/cupti_collector.cc:541]  GpuTracer has collected 0 callback api events and 0 activity events. \n",
      "2023-04-17 14:20:48.963120: I tensorflow/tsl/profiler/lib/profiler_session.cc:131] Profiler session tear down.\n"
     ]
    },
    {
     "name": "stdout",
     "output_type": "stream",
     "text": [
      "2/2 [==============================] - 0s 1ms/step\n"
     ]
    },
    {
     "data": {
      "image/png": "[encoded data removed]",
      "text/plain": [
       "<Figure size 432x288 with 1 Axes>"
      ]
     },
     "metadata": {},
     "output_type": "display_data"
    },
    {
     "data": {
      "image/png": "[encoded data removed]",
      "text/plain": [
       "<Figure size 432x288 with 1 Axes>"
      ]
     },
     "metadata": {},
     "output_type": "display_data"
    }
   ],
   "source": [
    "def plot_loss(history):\n",
    "  plt.plot(history.history['loss'], label='loss')\n",
    "  plt.plot(history.history['val_loss'], label='val_loss')\n",
    "  plt.xlabel('Epoch')\n",
    "  plt.ylabel('Error [distance (m)]')\n",
    "  plt.legend()\n",
    "  plt.grid(True)\n",
    "  plt.show()\n",
    "  \n",
    "\n",
    "def plot_versus(predictions):\n",
    "  plt.plot(np.linspace(0, len(test_labels), len(test_labels)), test_labels, label = \"ground_truth\")\n",
    "  plt.plot(np.linspace(0, len(predictions), len(predictions)), predictions, label = \"prediction\")\n",
    "  plt.ylabel(\"distance (m)\")\n",
    "  plt.legend()\n",
    "  plt.grid(True)\n",
    "  plt.show()\n",
    "\n",
    "\n",
    "def build_and_compile_model(norm):\n",
    "  model = keras.Sequential([\n",
    "      norm,\n",
    "      layers.Dense(64, activation='relu'),\n",
    "      layers.Dense(64, activation='relu'),\n",
    "      layers.Dense(32, activation='relu'),\n",
    "      layers.Dense(16, activation='relu'),\n",
    "      layers.Dense(1, activation='linear')\n",
    "  ])\n",
    "  return model\n",
    "\n",
    "  \n",
    "normalizer = tf.keras.layers.Normalization(axis=-1)\n",
    "normalizer.adapt(np.array(train_features))\n",
    "\n",
    "# Create a TensorBoard callback\n",
    "logs = \"logs/\" + datetime.now().strftime(\"%Y%m%d-%H%M%S\")\n",
    "\n",
    "tboard_callback = tf.keras.callbacks.TensorBoard(log_dir = logs,\n",
    "                                                 histogram_freq = 1,\n",
    "                                                 profile_batch = '500,520')\n",
    "\n",
    "\n",
    "model = build_and_compile_model(normalizer)\n",
    "model.compile(loss='mae', optimizer=tf.keras.optimizers.Adam(learning_rate=1e-3), metrics=['mae'])\n",
    "history=model.fit(train_features,train_labels, epochs=100, batch_size=16, verbose=0, validation_split=0.2, callbacks = [tboard_callback])\n",
    "predictions = model.predict(test_features)\n",
    "\n",
    "plot_versus(predictions)\n",
    "plot_loss(history)"
   ]
  },
  {
   "cell_type": "code",
   "execution_count": 176,
   "metadata": {},
   "outputs": [
    {
     "data": {
      "text/html": [
       "\n",
       "      <iframe id=\"tensorboard-frame-ab6afcdad1ae5e0c\" width=\"100%\" height=\"800\" frameborder=\"0\">\n",
       "      </iframe>\n",
       "      <script>\n",
       "        (function() {\n",
       "          const frame = document.getElementById(\"tensorboard-frame-ab6afcdad1ae5e0c\");\n",
       "          const url = new URL(\"http://localhost\");\n",
       "          const port = 6006;\n",
       "          if (port) {\n",
       "            url.port = port;\n",
       "          }\n",
       "          frame.src = url;\n",
       "        })();\n",
       "      </script>\n",
       "    "
      ],
      "text/plain": [
       "<IPython.core.display.HTML object>"
      ]
     },
     "metadata": {},
     "output_type": "display_data"
    }
   ],
   "source": [
    "%load_ext tensorboard\n",
    "%tensorboard --logdir=logs"
   ]
  },
  {
   "cell_type": "code",
   "execution_count": 177,
   "metadata": {},
   "outputs": [
    {
     "data": {
      "text/plain": [
       "0.5962383"
      ]
     },
     "execution_count": 177,
     "metadata": {},
     "output_type": "execute_result"
    }
   ],
   "source": [
    "metric = tfa.metrics.r_square.RSquare()\n",
    "metric.update_state(test_labels, pd.Series([i[0] for i in predictions]))\n",
    "result = metric.result()\n",
    "result.numpy()"
   ]
  },
  {
   "cell_type": "code",
   "execution_count": 178,
   "metadata": {},
   "outputs": [
    {
     "data": {
      "text/html": [
       "<div>\n",
       "<style scoped>\n",
       "    .dataframe tbody tr th:only-of-type {\n",
       "        vertical-align: middle;\n",
       "    }\n",
       "\n",
       "    .dataframe tbody tr th {\n",
       "        vertical-align: top;\n",
       "    }\n",
       "\n",
       "    .dataframe thead th {\n",
       "        text-align: right;\n",
       "    }\n",
       "</style>\n",
       "<table border=\"1\" class=\"dataframe\">\n",
       "  <thead>\n",
       "    <tr style=\"text-align: right;\">\n",
       "      <th></th>\n",
       "      <th>control</th>\n",
       "      <th>pred</th>\n",
       "      <th>diff</th>\n",
       "    </tr>\n",
       "  </thead>\n",
       "  <tbody>\n",
       "    <tr>\n",
       "      <th>0</th>\n",
       "      <td>9</td>\n",
       "      <td>[7.030086]</td>\n",
       "      <td>[1.969914]</td>\n",
       "    </tr>\n",
       "    <tr>\n",
       "      <th>1</th>\n",
       "      <td>18</td>\n",
       "      <td>[16.65392]</td>\n",
       "      <td>[1.3460808]</td>\n",
       "    </tr>\n",
       "    <tr>\n",
       "      <th>2</th>\n",
       "      <td>36</td>\n",
       "      <td>[29.856182]</td>\n",
       "      <td>[6.143818]</td>\n",
       "    </tr>\n",
       "    <tr>\n",
       "      <th>3</th>\n",
       "      <td>39</td>\n",
       "      <td>[27.221132]</td>\n",
       "      <td>[11.778868]</td>\n",
       "    </tr>\n",
       "    <tr>\n",
       "      <th>4</th>\n",
       "      <td>48</td>\n",
       "      <td>[92.046715]</td>\n",
       "      <td>[-44.046715]</td>\n",
       "    </tr>\n",
       "    <tr>\n",
       "      <th>5</th>\n",
       "      <td>57</td>\n",
       "      <td>[86.32453]</td>\n",
       "      <td>[-29.324532]</td>\n",
       "    </tr>\n",
       "    <tr>\n",
       "      <th>6</th>\n",
       "      <td>66</td>\n",
       "      <td>[58.197887]</td>\n",
       "      <td>[7.8021126]</td>\n",
       "    </tr>\n",
       "    <tr>\n",
       "      <th>7</th>\n",
       "      <td>102</td>\n",
       "      <td>[129.35574]</td>\n",
       "      <td>[-27.355743]</td>\n",
       "    </tr>\n",
       "    <tr>\n",
       "      <th>8</th>\n",
       "      <td>111</td>\n",
       "      <td>[133.17929]</td>\n",
       "      <td>[-22.17929]</td>\n",
       "    </tr>\n",
       "    <tr>\n",
       "      <th>9</th>\n",
       "      <td>147</td>\n",
       "      <td>[121.81072]</td>\n",
       "      <td>[25.189278]</td>\n",
       "    </tr>\n",
       "    <tr>\n",
       "      <th>10</th>\n",
       "      <td>153</td>\n",
       "      <td>[114.39478]</td>\n",
       "      <td>[38.605217]</td>\n",
       "    </tr>\n",
       "    <tr>\n",
       "      <th>11</th>\n",
       "      <td>171</td>\n",
       "      <td>[114.128075]</td>\n",
       "      <td>[56.871925]</td>\n",
       "    </tr>\n",
       "    <tr>\n",
       "      <th>12</th>\n",
       "      <td>0</td>\n",
       "      <td>[4.270752]</td>\n",
       "      <td>[-4.270752]</td>\n",
       "    </tr>\n",
       "    <tr>\n",
       "      <th>13</th>\n",
       "      <td>3</td>\n",
       "      <td>[4.2869525]</td>\n",
       "      <td>[-1.2869525]</td>\n",
       "    </tr>\n",
       "    <tr>\n",
       "      <th>14</th>\n",
       "      <td>60</td>\n",
       "      <td>[51.97168]</td>\n",
       "      <td>[8.02832]</td>\n",
       "    </tr>\n",
       "    <tr>\n",
       "      <th>15</th>\n",
       "      <td>78</td>\n",
       "      <td>[44.585102]</td>\n",
       "      <td>[33.414898]</td>\n",
       "    </tr>\n",
       "    <tr>\n",
       "      <th>16</th>\n",
       "      <td>90</td>\n",
       "      <td>[70.98548]</td>\n",
       "      <td>[19.014519]</td>\n",
       "    </tr>\n",
       "    <tr>\n",
       "      <th>17</th>\n",
       "      <td>105</td>\n",
       "      <td>[131.82666]</td>\n",
       "      <td>[-26.82666]</td>\n",
       "    </tr>\n",
       "    <tr>\n",
       "      <th>18</th>\n",
       "      <td>123</td>\n",
       "      <td>[133.06334]</td>\n",
       "      <td>[-10.063339]</td>\n",
       "    </tr>\n",
       "    <tr>\n",
       "      <th>19</th>\n",
       "      <td>126</td>\n",
       "      <td>[147.96518]</td>\n",
       "      <td>[-21.96518]</td>\n",
       "    </tr>\n",
       "    <tr>\n",
       "      <th>20</th>\n",
       "      <td>138</td>\n",
       "      <td>[131.27168]</td>\n",
       "      <td>[6.7283173]</td>\n",
       "    </tr>\n",
       "    <tr>\n",
       "      <th>21</th>\n",
       "      <td>147</td>\n",
       "      <td>[109.90359]</td>\n",
       "      <td>[37.096413]</td>\n",
       "    </tr>\n",
       "    <tr>\n",
       "      <th>22</th>\n",
       "      <td>159</td>\n",
       "      <td>[100.85814]</td>\n",
       "      <td>[58.14186]</td>\n",
       "    </tr>\n",
       "    <tr>\n",
       "      <th>23</th>\n",
       "      <td>165</td>\n",
       "      <td>[105.91593]</td>\n",
       "      <td>[59.08407]</td>\n",
       "    </tr>\n",
       "    <tr>\n",
       "      <th>24</th>\n",
       "      <td>192</td>\n",
       "      <td>[139.15964]</td>\n",
       "      <td>[52.840363]</td>\n",
       "    </tr>\n",
       "    <tr>\n",
       "      <th>25</th>\n",
       "      <td>6</td>\n",
       "      <td>[5.426787]</td>\n",
       "      <td>[0.5732131]</td>\n",
       "    </tr>\n",
       "    <tr>\n",
       "      <th>26</th>\n",
       "      <td>12</td>\n",
       "      <td>[14.523547]</td>\n",
       "      <td>[-2.5235472]</td>\n",
       "    </tr>\n",
       "    <tr>\n",
       "      <th>27</th>\n",
       "      <td>24</td>\n",
       "      <td>[7.03128]</td>\n",
       "      <td>[16.96872]</td>\n",
       "    </tr>\n",
       "    <tr>\n",
       "      <th>28</th>\n",
       "      <td>30</td>\n",
       "      <td>[10.623117]</td>\n",
       "      <td>[19.376883]</td>\n",
       "    </tr>\n",
       "    <tr>\n",
       "      <th>29</th>\n",
       "      <td>39</td>\n",
       "      <td>[30.089983]</td>\n",
       "      <td>[8.910017]</td>\n",
       "    </tr>\n",
       "    <tr>\n",
       "      <th>30</th>\n",
       "      <td>63</td>\n",
       "      <td>[141.32646]</td>\n",
       "      <td>[-78.32646]</td>\n",
       "    </tr>\n",
       "    <tr>\n",
       "      <th>31</th>\n",
       "      <td>87</td>\n",
       "      <td>[69.884796]</td>\n",
       "      <td>[17.115204]</td>\n",
       "    </tr>\n",
       "    <tr>\n",
       "      <th>32</th>\n",
       "      <td>105</td>\n",
       "      <td>[70.61379]</td>\n",
       "      <td>[34.386208]</td>\n",
       "    </tr>\n",
       "    <tr>\n",
       "      <th>33</th>\n",
       "      <td>114</td>\n",
       "      <td>[148.56859]</td>\n",
       "      <td>[-34.56859]</td>\n",
       "    </tr>\n",
       "    <tr>\n",
       "      <th>34</th>\n",
       "      <td>120</td>\n",
       "      <td>[146.04172]</td>\n",
       "      <td>[-26.041718]</td>\n",
       "    </tr>\n",
       "    <tr>\n",
       "      <th>35</th>\n",
       "      <td>141</td>\n",
       "      <td>[139.17401]</td>\n",
       "      <td>[1.8259888]</td>\n",
       "    </tr>\n",
       "    <tr>\n",
       "      <th>36</th>\n",
       "      <td>165</td>\n",
       "      <td>[91.54596]</td>\n",
       "      <td>[73.45404]</td>\n",
       "    </tr>\n",
       "    <tr>\n",
       "      <th>37</th>\n",
       "      <td>180</td>\n",
       "      <td>[59.548992]</td>\n",
       "      <td>[120.451004]</td>\n",
       "    </tr>\n",
       "    <tr>\n",
       "      <th>38</th>\n",
       "      <td>195</td>\n",
       "      <td>[177.11755]</td>\n",
       "      <td>[17.882446]</td>\n",
       "    </tr>\n",
       "  </tbody>\n",
       "</table>\n",
       "</div>"
      ],
      "text/plain": [
       "    control          pred          diff\n",
       "0         9    [7.030086]    [1.969914]\n",
       "1        18    [16.65392]   [1.3460808]\n",
       "2        36   [29.856182]    [6.143818]\n",
       "3        39   [27.221132]   [11.778868]\n",
       "4        48   [92.046715]  [-44.046715]\n",
       "5        57    [86.32453]  [-29.324532]\n",
       "6        66   [58.197887]   [7.8021126]\n",
       "7       102   [129.35574]  [-27.355743]\n",
       "8       111   [133.17929]   [-22.17929]\n",
       "9       147   [121.81072]   [25.189278]\n",
       "10      153   [114.39478]   [38.605217]\n",
       "11      171  [114.128075]   [56.871925]\n",
       "12        0    [4.270752]   [-4.270752]\n",
       "13        3   [4.2869525]  [-1.2869525]\n",
       "14       60    [51.97168]     [8.02832]\n",
       "15       78   [44.585102]   [33.414898]\n",
       "16       90    [70.98548]   [19.014519]\n",
       "17      105   [131.82666]   [-26.82666]\n",
       "18      123   [133.06334]  [-10.063339]\n",
       "19      126   [147.96518]   [-21.96518]\n",
       "20      138   [131.27168]   [6.7283173]\n",
       "21      147   [109.90359]   [37.096413]\n",
       "22      159   [100.85814]    [58.14186]\n",
       "23      165   [105.91593]    [59.08407]\n",
       "24      192   [139.15964]   [52.840363]\n",
       "25        6    [5.426787]   [0.5732131]\n",
       "26       12   [14.523547]  [-2.5235472]\n",
       "27       24     [7.03128]    [16.96872]\n",
       "28       30   [10.623117]   [19.376883]\n",
       "29       39   [30.089983]    [8.910017]\n",
       "30       63   [141.32646]   [-78.32646]\n",
       "31       87   [69.884796]   [17.115204]\n",
       "32      105    [70.61379]   [34.386208]\n",
       "33      114   [148.56859]   [-34.56859]\n",
       "34      120   [146.04172]  [-26.041718]\n",
       "35      141   [139.17401]   [1.8259888]\n",
       "36      165    [91.54596]    [73.45404]\n",
       "37      180   [59.548992]  [120.451004]\n",
       "38      195   [177.11755]   [17.882446]"
      ]
     },
     "execution_count": 178,
     "metadata": {},
     "output_type": "execute_result"
    }
   ],
   "source": [
    "result = pd.DataFrame(list(zip(test_labels, predictions, [x - y for x, y in zip(test_labels, predictions)])), columns=['control', 'pred', 'diff'])\n",
    "result"
   ]
  },
  {
   "cell_type": "code",
   "execution_count": 179,
   "metadata": {},
   "outputs": [],
   "source": [
    "# model.save('rssi_to_distance')"
   ]
  },
  {
   "cell_type": "code",
   "execution_count": 180,
   "metadata": {},
   "outputs": [
    {
     "name": "stdout",
     "output_type": "stream",
     "text": [
      "1/1 [==============================] - 0s 10ms/step\n"
     ]
    },
    {
     "data": {
      "text/plain": [
       "array([[7.03]], dtype=float32)"
      ]
     },
     "execution_count": 180,
     "metadata": {},
     "output_type": "execute_result"
    }
   ],
   "source": [
    "model.predict(test_features.iloc[0:1,:])"
   ]
  },
  {
   "cell_type": "code",
   "execution_count": 181,
   "metadata": {},
   "outputs": [],
   "source": [
    "a = test_features.iloc[0,1:]"
   ]
  },
  {
   "cell_type": "code",
   "execution_count": 182,
   "metadata": {},
   "outputs": [
    {
     "name": "stdout",
     "output_type": "stream",
     "text": [
      "1/1 [==============================] - 0s 34ms/step\n"
     ]
    },
    {
     "data": {
      "text/plain": [
       "array([[6.588]], dtype=float32)"
      ]
     },
     "execution_count": 182,
     "metadata": {},
     "output_type": "execute_result"
    }
   ],
   "source": [
    "reloaded = tf.keras.models.load_model('rssi_to_distance')\n",
    "data = {'rssi': -58.333333333333336, 'snr': 12.166666666666666, 'tx_power': 15.0}\n",
    "data = pd.DataFrame(data, index=[0])\n",
    "reloaded.predict(data)"
   ]
  }
 ],
 "metadata": {
  "kernelspec": {
   "display_name": "base",
   "language": "python",
   "name": "python3"
  },
  "language_info": {
   "codemirror_mode": {
    "name": "ipython",
    "version": 3
   },
   "file_extension": ".py",
   "mimetype": "text/x-python",
   "name": "python",
   "nbconvert_exporter": "python",
   "pygments_lexer": "ipython3",
   "version": "3.9.12"
  },
  "orig_nbformat": 4
 },
 "nbformat": 4,
 "nbformat_minor": 2
}
